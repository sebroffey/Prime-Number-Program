{
 "cells": [
  {
   "cell_type": "markdown",
   "metadata": {},
   "source": [
    "<H1><u>\n",
    "    <font face=\"new times roman\" size = 100>\n",
    "        Prime Numbers Between 1 and 100\n",
    "    </font>\n",
    "</u></H1>\n",
    "<br>\n",
    "<H2>\n",
    "    <font face = \"new times roman\" size = 5>\n",
    "        Understanding what a prime number is.       \n",
    "    </font>\n",
    "</H2>\n",
    "<br>\n",
    "<P1>\n",
    "    <font face = \"new times roman\" size = 3>\n",
    "        A Prime Number is an intiger greater than 1 that has no factors other than 1 and itself. To create a program which identifies Prime Numbers, these numbers will need to be identified using Python statements. The MODULUS statement (%) can be used to identify numbers with factors other than themselves by simpily comparing the value returned from the statement to 0. IF a value smaller than a compared number returns 0 after being MODded againt the compared number, this value is identified to be a factor of the compared number, therefore the compared number is not a prime number. IF a compared number has no values smaller than itself which result in a MODULUS statement equalling 0, then this number is a prime number.\n",
    "    </font>\n",
    "</P1>\n",
    "<br>\n",
    "<H3>\n",
    "    <font face = \"new times roman\" size = 5>\n",
    "        Optimisation      \n",
    "    </font>\n",
    "</H3>\n",
    "<br>\n",
    "<P2>\n",
    "    <font face = \"new times roman\" size = 3>\n",
    "        The larger the program bounds become, the time spent comparing numbers will increase due to the increased amount of values to compare. Therefore, removing numbers which do not need to be compared is important to reduce the time spent performing unessesary calculations. I have implemented some measures into the below program to cater for ever needing to calculate a larger range of prime numbers, as well as perform the task of calculating prime numbers between 1 and 100 more quickly.\n",
    "     </font>\n",
    "</P2>\n",
    "<br><br>\n",
    "<P3>\n",
    "    <font face = \"new times roman\" size = 3>\n",
    "All even numbers apart from 2 are not prime numbers as they are divisible by 2. Therefore performing calculations on even numbers is pointless. As all composite numbers are divisible by prime numbers, if a compared number was to be divisible by a composite number, it would also be divisible by that composite numbers prime number factors. So using the MODULUS statement with composite numbers is also pointless when a number can be identified as not a prime number by comparing only its MODULUS with previously identified prime numbers.\n",
    "        \n",
    "Below is my Program which can calculate prime numbers up to any value from 1. A lower bound can be set but the program will still calculate prime numbers from 1 due to the program using previously calculated prime numbers to eliminate comparing composite numbers. The program assumes 2 is a prime number.\n",
    "     </font>\n",
    "</P3>"
   ]
  },
  {
   "cell_type": "code",
   "execution_count": 39,
   "metadata": {},
   "outputs": [
    {
     "data": {
      "text/html": [
       "<br><table><td><h3>2</h3><td><td><h3>3</h3><td><td><h3>5</h3><td><td><h3>7</h3><td><td><h3>11</h3><td><td><h3>13</h3><td><td><h3>17</h3><td><td><h3>19</h3><td><tr><td><h3>23</h3><td><td><h3>29</h3><td><td><h3>31</h3><td><td><h3>37</h3><td><td><h3>41</h3><td><td><h3>43</h3><td><td><h3>47</h3><td><td><h3>53</h3><td><tr><td><h3>59</h3><td><td><h3>61</h3><td><td><h3>67</h3><td><td><h3>71</h3><td><td><h3>73</h3><td><td><h3>79</h3><td><td><h3>83</h3><td><td><h3>89</h3><td><tr></table><br>"
      ],
      "text/plain": [
       "<IPython.core.display.HTML object>"
      ]
     },
     "metadata": {},
     "output_type": "display_data"
    }
   ],
   "source": [
    "lowerBound = 1               #Lowest value to be outputted. This value can be changed as long as it is less than the upper bound.\n",
    "upperBound = 100             #Highest value to be compared. This value can be changed as long as its greater than the lower bound.\n",
    "primeArray = [2]             #Calculated prime numbers to be stored in this array.\n",
    "\n",
    "\n",
    "for currentNumber in range(3,upperBound + 1,2):        #For In Range loop set to iterate currentNumber in jumps of 2 from 3 to the value of upperBound.\n",
    "\n",
    "    primeTest = True              #primeTest is a boolean used to identify if the current number is identified as prime. It is set to false if a factor is found.\n",
    "        \n",
    "    for index in range(0,len(primeArray) - 1):         #For In Range loop set to iterate values of index across the number of elements in primeArray.\n",
    "        if currentNumber % primeArray[index] == 0:     #If currentNumber has a factor of the current primeArray element then...\n",
    "            primeTest = False                          #...currentNumber is a composite number and therefore primeTest is set to false.\n",
    "            break                                      #Stops the loop once a factor of currentNumber is found to stop more uneeded comparisions.\n",
    "            \n",
    "    if primeTest == True:                              #In the case that currentNumber is a prime number...\n",
    "        primeArray.append(currentNumber)               #...The new identified prime number is added to the primeArray.\n",
    "\n",
    "#Output formatting, using HTML to diplay prime numbers.\n",
    "\n",
    "from IPython.display import HTML, display                       #Importing HTML module to allow formatting of output string.\n",
    "column = 0                                                      #Current Column being appended.                                  \n",
    "html = \"<br><table>\"                                            #HTML string is created with the table being initialized.\n",
    "for index in range(0,len(primeArray) - 1):                      #For In Range loop set to iterate index across the length of primeArray.\n",
    "    \n",
    "    if primeArray[index] >= lowerBound:                         #IF statement only allows elements in primeArray to be added to the HTML string if their value is larger or equal to the lower bound.\n",
    "    \n",
    "        html += \"<td><h3>%s</h3><td>\"%(primeArray[index])       #HTML string has elements added to the table from primeArray\n",
    "        column = column + 1                                     #As an element has been added, the next column to be edited is stored.\n",
    "        if column >= 8:                                         #As I want only 8 columns in the table, an IF statement identifies when the algorithm has just edited the 8th column...\n",
    "            html += \"<tr>\"                                      #...and adds a table row to the table to start a new row of values.\n",
    "            column = 0                                          #The column counter is reset to 0 as the next column to be edited is the first.\n",
    "html += \"</table><br>\"                                          #the HTML string has its table closed and an extra line formatted under.\n",
    "\n",
    "display(HTML(html))                                             #The generated HTML string is displayed below.\n"
   ]
  },
  {
   "cell_type": "code",
   "execution_count": null,
   "metadata": {},
   "outputs": [],
   "source": []
  },
  {
   "cell_type": "code",
   "execution_count": null,
   "metadata": {},
   "outputs": [],
   "source": []
  },
  {
   "cell_type": "code",
   "execution_count": null,
   "metadata": {},
   "outputs": [],
   "source": []
  }
 ],
 "metadata": {
  "kernelspec": {
   "display_name": "Python 3",
   "language": "python",
   "name": "python3"
  },
  "language_info": {
   "codemirror_mode": {
    "name": "ipython",
    "version": 3
   },
   "file_extension": ".py",
   "mimetype": "text/x-python",
   "name": "python",
   "nbconvert_exporter": "python",
   "pygments_lexer": "ipython3",
   "version": "3.8.3"
  }
 },
 "nbformat": 4,
 "nbformat_minor": 4
}
